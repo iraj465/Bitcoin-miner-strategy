{
  "nbformat": 4,
  "nbformat_minor": 0,
  "metadata": {
    "colab": {
      "name": "Miner_Strategy.ipynb",
      "provenance": [],
      "collapsed_sections": []
    },
    "kernelspec": {
      "name": "python3",
      "display_name": "Python 3"
    },
    "language_info": {
      "name": "python"
    }
  },
  "cells": [
    {
      "cell_type": "code",
      "metadata": {
        "id": "u_tiHq4OoBQM"
      },
      "source": [
        "class MempoolTransaction():\n",
        "  def __init__(self, txid, fee, weight, parents):\n",
        "    self.txid = txid\n",
        "    self.fee = int(fee)\n",
        "    self.weight = int(weight)\n",
        "    self.parents = parents "
      ],
      "execution_count": 104,
      "outputs": []
    },
    {
      "cell_type": "code",
      "metadata": {
        "id": "e4auibffoZRM"
      },
      "source": [
        "def parse_mempool_csv():\n",
        "  \"\"\"Parse the CSV file and return a list of MempoolTransactions.\"\"\"\n",
        "  with open('mempool.csv') as f:\n",
        "    return([MempoolTransaction(*line.strip().split(',')) for line in f.readlines()[1:]])"
      ],
      "execution_count": 105,
      "outputs": []
    },
    {
      "cell_type": "code",
      "metadata": {
        "id": "pQTiTiv89qoF"
      },
      "source": [
        "global MAXIMUM_BLOCK_WEIGHT \n",
        "MAXIMUM_BLOCK_WEIGHT = 4000000"
      ],
      "execution_count": 106,
      "outputs": []
    },
    {
      "cell_type": "code",
      "metadata": {
        "id": "ufYkIOKktqbm"
      },
      "source": [
        "def compute_helper_mempool_dictionaries():\n",
        "  txn_density_dict = {}\n",
        "  txn_parents_dict = {}\n",
        "  txn_size_dict = {}\n",
        "  mempool_data = parse_mempool_csv()\n",
        "  for elem in mempool_data:\n",
        "    size = elem.weight/MAXIMUM_BLOCK_WEIGHT # weight mapped to (0,1)\n",
        "    txn_size_dict[elem.txid] = size \n",
        "    txn_density_dict[elem.txid] = elem.fee/size\n",
        "    if elem.parents != '':\n",
        "      txn_parents_dict[elem.txid] = elem.parents.strip().split(';')\n",
        "  return txn_density_dict,txn_parents_dict,txn_size_dict"
      ],
      "execution_count": 107,
      "outputs": []
    },
    {
      "cell_type": "code",
      "metadata": {
        "id": "loi3ZJkYe1LH"
      },
      "source": [
        "def order_TXN_density(txn_density_dict):\n",
        "  sorted_txn_density = sorted(txn_density_dict.items(), key=lambda x: x[1], reverse=True)\n",
        "  return sorted_txn_density"
      ],
      "execution_count": 108,
      "outputs": []
    },
    {
      "cell_type": "code",
      "metadata": {
        "id": "OKMCxq-mh-74"
      },
      "source": [
        "def create_valid_block(sorted_txn_density,txn_parents_dict,txn_size_dict):\n",
        "  currentBlockSize = 0\n",
        "  blockTxns = []\n",
        "  while(len(sorted_txn_density) != 0):\n",
        "    currentTxn = sorted_txn_density[0]\n",
        "    if currentTxn[0] in txn_parents_dict: #has parents\n",
        "      parents = txn_parents_dict[currentTxn[0]]\n",
        "      totalParentsTxnSize = 0\n",
        "      for parent in parents:\n",
        "        totalParentsTxnSize = totalParentsTxnSize + txn_size_dict[parent]\n",
        "      if currentBlockSize + totalParentsTxnSize > 1:\n",
        "        sorted_txn_density.pop(0)\n",
        "        continue\n",
        "\n",
        "    #no parents\n",
        "    if currentBlockSize + txn_size_dict[currentTxn[0]] >= 1:\n",
        "      break\n",
        "    else:\n",
        "      currentBlockSize = currentBlockSize + txn_size_dict[currentTxn[0]]\n",
        "    blockTxns.append(currentTxn[0])\n",
        "    sorted_txn_density.pop(0)\n",
        "  return currentBlockSize,blockTxns"
      ],
      "execution_count": 113,
      "outputs": []
    },
    {
      "cell_type": "code",
      "metadata": {
        "id": "0mDn9AFTEzyN"
      },
      "source": [
        "if __name__ == \"__main__\":\n",
        "  txn_density_dict,txn_parents_dict,txn_size_dict = compute_helper_mempool_dictionaries()\n",
        "  sorted_txn_density = order_TXN_density(txn_density_dict)\n",
        "  print(len(sorted_txn_density))\n",
        "  currentBlockSize,blockTxns = create_valid_block(sorted_txn_density,txn_parents_dict,txn_size_dict)"
      ],
      "execution_count": null,
      "outputs": []
    }
  ]
}