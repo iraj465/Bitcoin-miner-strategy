{
  "nbformat": 4,
  "nbformat_minor": 0,
  "metadata": {
    "colab": {
      "name": "Miner_Strategy.ipynb",
      "provenance": [],
      "collapsed_sections": []
    },
    "kernelspec": {
      "name": "python3",
      "display_name": "Python 3"
    },
    "language_info": {
      "name": "python"
    }
  },
  "cells": [
    {
      "cell_type": "code",
      "metadata": {
        "id": "qhJ1VyVdUGdc"
      },
      "source": [
        "import random"
      ],
      "execution_count": 1,
      "outputs": []
    },
    {
      "cell_type": "code",
      "metadata": {
        "id": "u_tiHq4OoBQM"
      },
      "source": [
        "class MempoolTransaction():\n",
        "  def __init__(self, txid, fee, weight, parents):\n",
        "    self.txid = txid\n",
        "    self.fee = int(fee)\n",
        "    self.weight = int(weight)\n",
        "    self.parents = parents "
      ],
      "execution_count": 2,
      "outputs": []
    },
    {
      "cell_type": "code",
      "metadata": {
        "id": "e4auibffoZRM"
      },
      "source": [
        "def parse_mempool_csv():\n",
        "  \"\"\"Parse the CSV file and return a list of MempoolTransactions.\"\"\"\n",
        "  with open('mempool.csv') as f:\n",
        "    return([MempoolTransaction(*line.strip().split(',')) for line in f.readlines()[1:]])"
      ],
      "execution_count": 3,
      "outputs": []
    },
    {
      "cell_type": "code",
      "metadata": {
        "id": "pQTiTiv89qoF"
      },
      "source": [
        "global MAXIMUM_BLOCK_WEIGHT \n",
        "MAXIMUM_BLOCK_WEIGHT = 4000000"
      ],
      "execution_count": 4,
      "outputs": []
    },
    {
      "cell_type": "code",
      "metadata": {
        "id": "7uumjgtmyieB"
      },
      "source": [
        "def create_block_file(blockTxns):\n",
        "  \"\"\"Creates the block.txt file\"\"\"\n",
        "  textfile = open(\"/content/block.txt\", \"w\")\n",
        "  for element in blockTxns:\n",
        "    textfile.write(element + \"\\n\")\n",
        "  textfile. close()"
      ],
      "execution_count": 5,
      "outputs": []
    },
    {
      "cell_type": "markdown",
      "metadata": {
        "id": "v0-884evYBlu"
      },
      "source": [
        "We define TXN density as:\n",
        "\n",
        "$\\text{TXN density} = \\frac{\\text{TXN fee}}{\\text{TXN size}}$\n",
        "\n",
        "where\n",
        "$\\text{TXN size} = \\frac{\\text{TXN weight}}{\\text{BLOCK_WEIGHT}}$\n",
        "\n",
        "Here, BLOCK_WEIGHT = 4000000"
      ]
    },
    {
      "cell_type": "code",
      "metadata": {
        "id": "ufYkIOKktqbm"
      },
      "source": [
        "def compute_helper_mempool_dictionaries():\n",
        "  \"\"\"Computes helper dictionary and TXN density\"\"\"\n",
        "  txn_density_dict = {}\n",
        "  txn_parents_dict = {}\n",
        "  txn_size_dict = {}\n",
        "  mempool_data = parse_mempool_csv()\n",
        "  for elem in mempool_data:\n",
        "    size = elem.weight/MAXIMUM_BLOCK_WEIGHT # weight mapped to (0,1)\n",
        "    txn_size_dict[elem.txid] = size \n",
        "    txn_density_dict[elem.txid] = elem.fee/size\n",
        "    if elem.parents != '':\n",
        "      txn_parents_dict[elem.txid] = elem.parents.strip().split(';')\n",
        "  return txn_density_dict,txn_parents_dict,txn_size_dict"
      ],
      "execution_count": 6,
      "outputs": []
    },
    {
      "cell_type": "code",
      "metadata": {
        "id": "loi3ZJkYe1LH"
      },
      "source": [
        "def order_TXN_density(txn_density_dict):\n",
        "  \"\"\"Order Transactions based on descending TXN density\"\"\"\n",
        "  sorted_txn_density = sorted(txn_density_dict.items(), key=lambda x: x[1], reverse=True)\n",
        "  return sorted_txn_density"
      ],
      "execution_count": 7,
      "outputs": []
    },
    {
      "cell_type": "code",
      "metadata": {
        "id": "OKMCxq-mh-74"
      },
      "source": [
        "def create_valid_block(sorted_txn_density,txn_parents_dict,txn_size_dict):\n",
        "  \"\"\"This is where the magic happens\"\"\"\n",
        "  currentBlockSize = 0\n",
        "  blockTxns = []\n",
        "  while(len(sorted_txn_density) != 0):\n",
        "    currentTxn = sorted_txn_density[0]\n",
        "\n",
        "    if currentTxn[0] in blockTxns:\n",
        "      sorted_txn_density.pop(0)\n",
        "      continue\n",
        "\n",
        "    if currentTxn[0] in txn_parents_dict:\n",
        "      parents = txn_parents_dict[currentTxn[0]]\n",
        "      rand = random.random()\n",
        "      if rand <= 0.5:\n",
        "        totalParentsTxnSize = 0\n",
        "        for parent in parents:\n",
        "          if parent not in blockTxns:\n",
        "            totalParentsTxnSize = totalParentsTxnSize + txn_size_dict[parent]\n",
        "        if currentBlockSize + totalParentsTxnSize > 1:\n",
        "          sorted_txn_density.pop(0)\n",
        "          continue\n",
        "        else:\n",
        "          currentBlockSize = currentBlockSize + totalParentsTxnSize\n",
        "          for parent in parents:\n",
        "            if parent not in blockTxns:\n",
        "              blockTxns.append(parent)\n",
        "            blockTxns.append(currentTxn[0])\n",
        "            sorted_txn_density.pop(0)\n",
        "          continue\n",
        "      else:\n",
        "        sorted_txn_density.pop(0)\n",
        "        continue\n",
        "\n",
        "    if currentBlockSize + txn_size_dict[currentTxn[0]] >= 1:\n",
        "      break\n",
        "    else:\n",
        "      currentBlockSize = currentBlockSize + txn_size_dict[currentTxn[0]]\n",
        "    blockTxns.append(currentTxn[0])\n",
        "    sorted_txn_density.pop(0)\n",
        "  return currentBlockSize,blockTxns"
      ],
      "execution_count": 8,
      "outputs": []
    },
    {
      "cell_type": "code",
      "metadata": {
        "id": "1IdwUFYN2Yhy"
      },
      "source": [
        "def create_valid_block_recur(sorted_txn_density,currentBlockSize,txn_density_dict,blockTxns,currentTxn,reward,maxReward,bestBlockTxns,*args):\n",
        "  if currentTxn in blockTxns:\n",
        "    sorted_txn_density.pop(0)\n",
        "    return currentBlockSize, create_valid_block_recur(sorted_txn_density,currentBlockSize,txn_density_dict,blockTxns,sorted_txn_density(0),reward,maxReward,bestBlockTxns,'NONE')\n",
        "\n",
        "  if len(sorted_txn_density) == 0:\n",
        "    return currentBlockSize, blockTxns\n",
        "\n",
        "  newReward = 0\n",
        "  if args[0] == 'PARENT_INCLUDED':\n",
        "    totalParentsTxnSize = 0\n",
        "    for parent in txn_parents_dict[currentTxn[0]]:\n",
        "      if parent not in blockTxns:\n",
        "        totalParentsTxnSize = totalParentsTxnSize + txn_size_dict[parent]\n",
        "    if currentBlockSize + totalParentsTxnSize > 1:\n",
        "        sorted_txn_density.pop(0)\n",
        "        return currentBlockSize, blockTxns\n",
        "    else:\n",
        "      currentBlockSize = currentBlockSize + totalParentsTxnSize\n",
        "      for parent in txn_parents_dict[currentTxn[0]]:\n",
        "        if parent not in blockTxns:\n",
        "          newReward = reward + txn_density_dict[parent]\n",
        "          blockTxns.append(parent)\n",
        "        blockTxns.append(currentTxn[0])\n",
        "\n",
        "  if args[0] == 'PARENT_NOT_INCLUDED':\n",
        "    if currentBlockSize + txn_size_dict[currentTxn[0]] > 1:\n",
        "      sorted_txn_density.pop(0)\n",
        "      return currentBlockSize, blockTxns\n",
        "    else:\n",
        "      currentBlockSize = currentBlockSize + txn_size_dict[currentTxn[0]]\n",
        "      newReward = reward + currentTxn[1]\n",
        "      blockTxns.append(currentTxn[0])\n",
        "\n",
        "  if newReward > maxReward:\n",
        "    maxReward = newReward\n",
        "    bestBlockTxns = blockTxns\n",
        "\n",
        "  sorted_txn_density.pop(0)\n",
        "  currentTxn = sorted_txn_density[0]\n",
        "\n",
        "  if currentTxn[0] in txn_parents_dict:\n",
        "    return currentBlockSize, create_valid_block_recur(sorted_txn_density,currentBlockSize,txn_density_dict,blockTxns,currentTxn,newReward,maxReward,bestBlockTxns,'PARENT_INCLUDED')\n",
        "  else:\n",
        "    return currentBlockSize, create_valid_block_recur(sorted_txn_density,currentBlockSize,txn_density_dict,blockTxns,currentTxn,newReward,maxReward,bestBlockTxns,'PARENT_NOT_INCLUDED')"
      ],
      "execution_count": 9,
      "outputs": []
    },
    {
      "cell_type": "code",
      "metadata": {
        "colab": {
          "base_uri": "https://localhost:8080/"
        },
        "id": "P_muaEujIHc-",
        "outputId": "1a16d25f-fa84-4e8d-a546-951fbca4e04c"
      },
      "source": [
        "if __name__ == \"__main__\":\n",
        "  txn_density_dict,txn_parents_dict,txn_size_dict = compute_helper_mempool_dictionaries()\n",
        "  sorted_txn_density = order_TXN_density(txn_density_dict)\n",
        "  currentBlockSize,blockTxns = create_valid_block(sorted_txn_density,txn_parents_dict,txn_size_dict)\n",
        "  print('Current Block Size is ',currentBlockSize*MAXIMUM_BLOCK_WEIGHT)\n",
        "  create_block_file(blockTxns)"
      ],
      "execution_count": 10,
      "outputs": [
        {
          "output_type": "stream",
          "text": [
            "Current Block Size is  3999963.99999996\n"
          ],
          "name": "stdout"
        }
      ]
    },
    {
      "cell_type": "code",
      "metadata": {
        "id": "0mDn9AFTEzyN"
      },
      "source": [
        "# #Recursive\n",
        "# if __name__ == \"__main__\":\n",
        "#   txn_density_dict,txn_parents_dict,txn_size_dict = compute_helper_mempool_dictionaries()\n",
        "#   sorted_txn_density = order_TXN_density(txn_density_dict)\n",
        "#   maxReward = 0\n",
        "#   bestBlockTxns = []\n",
        "#   currentBlockSize = 0\n",
        "#   blockTxns = []\n",
        "#   currentTxn = sorted_txn_density[0]\n",
        "#   if currentTxn[0] in txn_parents_dict:\n",
        "#     currentBlockSize,blockTxns = create_valid_block_recur(sorted_txn_density,currentBlockSize,txn_density_dict,blockTxns,currentTxn,0,maxReward,bestBlockTxns,'PARENT_INCLUDED')\n",
        "#   else:\n",
        "#     currentBlockSize,blockTxns = create_valid_block_recur(sorted_txn_density,currentBlockSize,txn_density_dict,blockTxns,currentTxn,0,maxReward,bestBlockTxns,'PARENT_NOT_INCLUDED')"
      ],
      "execution_count": 11,
      "outputs": []
    }
  ]
}